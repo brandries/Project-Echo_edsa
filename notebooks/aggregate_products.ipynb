{
 "cells": [
  {
   "cell_type": "code",
   "execution_count": 14,
   "metadata": {},
   "outputs": [],
   "source": [
    "# Clustering of timeseries data\n",
    "import pandas as pd\n",
    "import numpy as np\n",
    "import matplotlib.pyplot as plt\n",
    "from tsfresh import extract_features\n",
    "from dynamic_time_warping import Preprocessing\n"
   ]
  },
  {
   "cell_type": "markdown",
   "metadata": {},
   "source": [
    "Read in the master csv/df"
   ]
  },
  {
   "cell_type": "code",
   "execution_count": 2,
   "metadata": {
    "scrolled": true
   },
   "outputs": [
    {
     "name": "stderr",
     "output_type": "stream",
     "text": [
      "/home/ubuntu/anaconda3/lib/python3.6/site-packages/IPython/core/interactiveshell.py:2785: DtypeWarning: Columns (8,9,12,13) have mixed types. Specify dtype option on import or set low_memory=False.\n",
      "  interactivity=interactivity, compiler=compiler, result=result)\n"
     ]
    }
   ],
   "source": [
    "df = pd.read_csv('complete_df_7.csv')"
   ]
  },
  {
   "cell_type": "code",
   "execution_count": 27,
   "metadata": {},
   "outputs": [
    {
     "data": {
      "text/html": [
       "<div>\n",
       "<style scoped>\n",
       "    .dataframe tbody tr th:only-of-type {\n",
       "        vertical-align: middle;\n",
       "    }\n",
       "\n",
       "    .dataframe tbody tr th {\n",
       "        vertical-align: top;\n",
       "    }\n",
       "\n",
       "    .dataframe thead th {\n",
       "        text-align: right;\n",
       "    }\n",
       "</style>\n",
       "<table border=\"1\" class=\"dataframe\">\n",
       "  <thead>\n",
       "    <tr style=\"text-align: right;\">\n",
       "      <th></th>\n",
       "      <th>store_key</th>\n",
       "      <th>sku_key</th>\n",
       "      <th>tran_date</th>\n",
       "      <th>sales</th>\n",
       "      <th>selling_price</th>\n",
       "      <th>avg_discount</th>\n",
       "      <th>promotion_type</th>\n",
       "      <th>store_region</th>\n",
       "      <th>store_grading</th>\n",
       "      <th>store_area_manager</th>\n",
       "      <th>sku_department</th>\n",
       "      <th>sku_subdepartment</th>\n",
       "      <th>sku_category</th>\n",
       "      <th>sku_subcategory</th>\n",
       "      <th>sku_range</th>\n",
       "      <th>sku_label</th>\n",
       "      <th>stock_open</th>\n",
       "    </tr>\n",
       "  </thead>\n",
       "  <tbody>\n",
       "    <tr>\n",
       "      <th>0</th>\n",
       "      <td>121</td>\n",
       "      <td>47364</td>\n",
       "      <td>2017-11-06</td>\n",
       "      <td>1</td>\n",
       "      <td>0.01</td>\n",
       "      <td>0.0</td>\n",
       "      <td>no_promotion</td>\n",
       "      <td>WC</td>\n",
       "      <td>B</td>\n",
       "      <td>WA</td>\n",
       "      <td>AM</td>\n",
       "      <td>AG</td>\n",
       "      <td>150</td>\n",
       "      <td>209</td>\n",
       "      <td>0001A</td>\n",
       "      <td>Gift C</td>\n",
       "      <td>-1.0</td>\n",
       "    </tr>\n",
       "    <tr>\n",
       "      <th>1</th>\n",
       "      <td>119</td>\n",
       "      <td>60063</td>\n",
       "      <td>2018-02-21</td>\n",
       "      <td>21</td>\n",
       "      <td>0.01</td>\n",
       "      <td>0.0</td>\n",
       "      <td>no_promotion</td>\n",
       "      <td>GTN</td>\n",
       "      <td>NaN</td>\n",
       "      <td>SI2014</td>\n",
       "      <td>AM</td>\n",
       "      <td>PA</td>\n",
       "      <td>100</td>\n",
       "      <td>201</td>\n",
       "      <td>0001A</td>\n",
       "      <td>001</td>\n",
       "      <td>-2027.0</td>\n",
       "    </tr>\n",
       "    <tr>\n",
       "      <th>2</th>\n",
       "      <td>36</td>\n",
       "      <td>53252</td>\n",
       "      <td>2017-09-30</td>\n",
       "      <td>0</td>\n",
       "      <td>0.01</td>\n",
       "      <td>0.0</td>\n",
       "      <td>no_promotion</td>\n",
       "      <td>GTN</td>\n",
       "      <td>B</td>\n",
       "      <td>SI2014</td>\n",
       "      <td>AM</td>\n",
       "      <td>AB</td>\n",
       "      <td>49</td>\n",
       "      <td>049</td>\n",
       "      <td>0001A</td>\n",
       "      <td>001</td>\n",
       "      <td>0.0</td>\n",
       "    </tr>\n",
       "    <tr>\n",
       "      <th>3</th>\n",
       "      <td>118</td>\n",
       "      <td>60064</td>\n",
       "      <td>2017-11-28</td>\n",
       "      <td>27</td>\n",
       "      <td>0.01</td>\n",
       "      <td>0.0</td>\n",
       "      <td>no_promotion</td>\n",
       "      <td>NW</td>\n",
       "      <td>NaN</td>\n",
       "      <td>CH2014</td>\n",
       "      <td>AM</td>\n",
       "      <td>PA</td>\n",
       "      <td>100</td>\n",
       "      <td>201</td>\n",
       "      <td>0001A</td>\n",
       "      <td>001</td>\n",
       "      <td>-1356.0</td>\n",
       "    </tr>\n",
       "    <tr>\n",
       "      <th>4</th>\n",
       "      <td>118</td>\n",
       "      <td>60064</td>\n",
       "      <td>2017-11-27</td>\n",
       "      <td>22</td>\n",
       "      <td>0.01</td>\n",
       "      <td>0.0</td>\n",
       "      <td>no_promotion</td>\n",
       "      <td>NW</td>\n",
       "      <td>NaN</td>\n",
       "      <td>CH2014</td>\n",
       "      <td>AM</td>\n",
       "      <td>PA</td>\n",
       "      <td>100</td>\n",
       "      <td>201</td>\n",
       "      <td>0001A</td>\n",
       "      <td>001</td>\n",
       "      <td>-1334.0</td>\n",
       "    </tr>\n",
       "  </tbody>\n",
       "</table>\n",
       "</div>"
      ],
      "text/plain": [
       "   store_key  sku_key   tran_date  sales  selling_price  avg_discount  \\\n",
       "0        121    47364  2017-11-06      1           0.01           0.0   \n",
       "1        119    60063  2018-02-21     21           0.01           0.0   \n",
       "2         36    53252  2017-09-30      0           0.01           0.0   \n",
       "3        118    60064  2017-11-28     27           0.01           0.0   \n",
       "4        118    60064  2017-11-27     22           0.01           0.0   \n",
       "\n",
       "  promotion_type store_region store_grading store_area_manager sku_department  \\\n",
       "0   no_promotion           WC             B                 WA             AM   \n",
       "1   no_promotion          GTN           NaN             SI2014             AM   \n",
       "2   no_promotion          GTN             B             SI2014             AM   \n",
       "3   no_promotion           NW           NaN             CH2014             AM   \n",
       "4   no_promotion           NW           NaN             CH2014             AM   \n",
       "\n",
       "  sku_subdepartment sku_category sku_subcategory sku_range sku_label  \\\n",
       "0                AG          150             209     0001A    Gift C   \n",
       "1                PA          100             201     0001A       001   \n",
       "2                AB           49             049     0001A       001   \n",
       "3                PA          100             201     0001A       001   \n",
       "4                PA          100             201     0001A       001   \n",
       "\n",
       "   stock_open  \n",
       "0        -1.0  \n",
       "1     -2027.0  \n",
       "2         0.0  \n",
       "3     -1356.0  \n",
       "4     -1334.0  "
      ]
     },
     "execution_count": 27,
     "metadata": {},
     "output_type": "execute_result"
    }
   ],
   "source": [
    "df.head()"
   ]
  },
  {
   "cell_type": "code",
   "execution_count": 4,
   "metadata": {},
   "outputs": [],
   "source": [
    "df.drop('Unnamed: 0', axis=1, inplace=True)"
   ]
  },
  {
   "cell_type": "code",
   "execution_count": 8,
   "metadata": {},
   "outputs": [],
   "source": [
    "df['stock_open'] = df['stock_open'].astype(float)"
   ]
  },
  {
   "cell_type": "markdown",
   "metadata": {},
   "source": [
    "Do product level aggregates"
   ]
  },
  {
   "cell_type": "code",
   "execution_count": 9,
   "metadata": {},
   "outputs": [],
   "source": [
    "aggregate = df.groupby(['sku_key', 'tran_date']).agg({'sales':'sum', 'selling_price':'mean',\n",
    "                                                      'avg_discount': 'mean', 'stock_open': 'sum'})\n",
    "aggregate.reset_index(inplace=True)"
   ]
  },
  {
   "cell_type": "code",
   "execution_count": 10,
   "metadata": {},
   "outputs": [],
   "source": [
    "categorical = df[['sku_key', 'sku_department', 'sku_subdepartment',\n",
    "                  'sku_category', 'sku_subcategory', 'sku_label']]"
   ]
  },
  {
   "cell_type": "code",
   "execution_count": 11,
   "metadata": {},
   "outputs": [],
   "source": [
    "nw_df = pd.DataFrame([], columns=['sku_key','sku_department','sku_subdepartment','sku_category','sku_subcategory', 'sku_label'])\n",
    "for i in categorical['sku_key'].unique():\n",
    "    nw_df = pd.concat([nw_df, pd.DataFrame(categorical[categorical['sku_key'] == i].iloc[0]).T])"
   ]
  },
  {
   "cell_type": "code",
   "execution_count": 14,
   "metadata": {},
   "outputs": [],
   "source": [
    "nw_df.reset_index(inplace=True, drop=True)"
   ]
  },
  {
   "cell_type": "code",
   "execution_count": 15,
   "metadata": {},
   "outputs": [],
   "source": [
    "aggregate['sku_key'] = aggregate['sku_key'].astype(int)\n",
    "nw_df['sku_key'] = nw_df['sku_key'].astype(int)"
   ]
  },
  {
   "cell_type": "code",
   "execution_count": 16,
   "metadata": {},
   "outputs": [],
   "source": [
    "aggregate_df = aggregate.merge(nw_df, how='left', on='sku_key')"
   ]
  },
  {
   "cell_type": "code",
   "execution_count": 17,
   "metadata": {},
   "outputs": [
    {
     "data": {
      "text/html": [
       "<div>\n",
       "<style scoped>\n",
       "    .dataframe tbody tr th:only-of-type {\n",
       "        vertical-align: middle;\n",
       "    }\n",
       "\n",
       "    .dataframe tbody tr th {\n",
       "        vertical-align: top;\n",
       "    }\n",
       "\n",
       "    .dataframe thead th {\n",
       "        text-align: right;\n",
       "    }\n",
       "</style>\n",
       "<table border=\"1\" class=\"dataframe\">\n",
       "  <thead>\n",
       "    <tr style=\"text-align: right;\">\n",
       "      <th></th>\n",
       "      <th>sku_key</th>\n",
       "      <th>tran_date</th>\n",
       "      <th>sales</th>\n",
       "      <th>selling_price</th>\n",
       "      <th>avg_discount</th>\n",
       "      <th>stock_open</th>\n",
       "      <th>sku_department</th>\n",
       "      <th>sku_subdepartment</th>\n",
       "      <th>sku_category</th>\n",
       "      <th>sku_subcategory</th>\n",
       "      <th>sku_label</th>\n",
       "    </tr>\n",
       "  </thead>\n",
       "  <tbody>\n",
       "    <tr>\n",
       "      <th>0</th>\n",
       "      <td>28</td>\n",
       "      <td>2016-03-02</td>\n",
       "      <td>1</td>\n",
       "      <td>89.9</td>\n",
       "      <td>0.0</td>\n",
       "      <td>64.0</td>\n",
       "      <td>TY</td>\n",
       "      <td>06</td>\n",
       "      <td>063</td>\n",
       "      <td>20G</td>\n",
       "      <td>DRGI</td>\n",
       "    </tr>\n",
       "    <tr>\n",
       "      <th>1</th>\n",
       "      <td>28</td>\n",
       "      <td>2016-03-03</td>\n",
       "      <td>0</td>\n",
       "      <td>89.9</td>\n",
       "      <td>0.0</td>\n",
       "      <td>63.0</td>\n",
       "      <td>TY</td>\n",
       "      <td>06</td>\n",
       "      <td>063</td>\n",
       "      <td>20G</td>\n",
       "      <td>DRGI</td>\n",
       "    </tr>\n",
       "    <tr>\n",
       "      <th>2</th>\n",
       "      <td>28</td>\n",
       "      <td>2016-03-04</td>\n",
       "      <td>0</td>\n",
       "      <td>89.9</td>\n",
       "      <td>0.0</td>\n",
       "      <td>63.0</td>\n",
       "      <td>TY</td>\n",
       "      <td>06</td>\n",
       "      <td>063</td>\n",
       "      <td>20G</td>\n",
       "      <td>DRGI</td>\n",
       "    </tr>\n",
       "    <tr>\n",
       "      <th>3</th>\n",
       "      <td>28</td>\n",
       "      <td>2016-03-05</td>\n",
       "      <td>0</td>\n",
       "      <td>89.9</td>\n",
       "      <td>0.0</td>\n",
       "      <td>63.0</td>\n",
       "      <td>TY</td>\n",
       "      <td>06</td>\n",
       "      <td>063</td>\n",
       "      <td>20G</td>\n",
       "      <td>DRGI</td>\n",
       "    </tr>\n",
       "    <tr>\n",
       "      <th>4</th>\n",
       "      <td>28</td>\n",
       "      <td>2016-03-06</td>\n",
       "      <td>0</td>\n",
       "      <td>89.9</td>\n",
       "      <td>0.0</td>\n",
       "      <td>63.0</td>\n",
       "      <td>TY</td>\n",
       "      <td>06</td>\n",
       "      <td>063</td>\n",
       "      <td>20G</td>\n",
       "      <td>DRGI</td>\n",
       "    </tr>\n",
       "  </tbody>\n",
       "</table>\n",
       "</div>"
      ],
      "text/plain": [
       "   sku_key   tran_date  sales  selling_price  avg_discount  stock_open  \\\n",
       "0       28  2016-03-02      1           89.9           0.0        64.0   \n",
       "1       28  2016-03-03      0           89.9           0.0        63.0   \n",
       "2       28  2016-03-04      0           89.9           0.0        63.0   \n",
       "3       28  2016-03-05      0           89.9           0.0        63.0   \n",
       "4       28  2016-03-06      0           89.9           0.0        63.0   \n",
       "\n",
       "  sku_department sku_subdepartment sku_category sku_subcategory sku_label  \n",
       "0             TY                06          063             20G      DRGI  \n",
       "1             TY                06          063             20G      DRGI  \n",
       "2             TY                06          063             20G      DRGI  \n",
       "3             TY                06          063             20G      DRGI  \n",
       "4             TY                06          063             20G      DRGI  "
      ]
     },
     "execution_count": 17,
     "metadata": {},
     "output_type": "execute_result"
    }
   ],
   "source": [
    "aggregate_df.head()"
   ]
  },
  {
   "cell_type": "code",
   "execution_count": 21,
   "metadata": {},
   "outputs": [],
   "source": [
    "aggregate_df.to_csv('aggregate_products.csv', index=False)"
   ]
  },
  {
   "cell_type": "code",
   "execution_count": 22,
   "metadata": {},
   "outputs": [],
   "source": [
    "aggregate_df['tran_date'] = pd.to_datetime(df['tran_date'])"
   ]
  },
  {
   "cell_type": "markdown",
   "metadata": {},
   "source": [
    "Extract features using tsfresh"
   ]
  },
  {
   "cell_type": "code",
   "execution_count": 23,
   "metadata": {},
   "outputs": [
    {
     "name": "stderr",
     "output_type": "stream",
     "text": [
      "Feature Extraction: 100%|██████████| 10/10 [1:30:59<00:00, 317.45s/it] \n"
     ]
    }
   ],
   "source": [
    "extracted_features = extract_features(aggregate_df[['sku_key', 'tran_date', 'sales']], column_id=\"sku_key\", column_sort=\"tran_date\")"
   ]
  },
  {
   "cell_type": "code",
   "execution_count": 24,
   "metadata": {},
   "outputs": [],
   "source": [
    "extracted_features.to_csv('extracted_features.csv')"
   ]
  },
  {
   "cell_type": "code",
   "execution_count": 26,
   "metadata": {},
   "outputs": [],
   "source": [
    "categorical = aggregate_df[['sku_key', 'sku_department',\n",
    "                   'sku_subdepartment', 'sku_category', 'sku_subcategory', 'sku_label']]\n",
    "\n",
    "nw_df = pd.DataFrame([], columns=['sku_key','sku_department','sku_subdepartment','sku_category','sku_subcategory', 'sku_label'])\n",
    "for i in categorical['sku_key'].unique():\n",
    "    nw_df = pd.concat([nw_df, pd.DataFrame(categorical[categorical['sku_key'] == i].iloc[0]).T])\n",
    "    \n",
    "nw_df.reset_index(inplace=True, drop=True)\n",
    "nw_df.to_csv('sku_labels.csv', index=False)"
   ]
  },
  {
   "cell_type": "code",
   "execution_count": 10,
   "metadata": {},
   "outputs": [
    {
     "name": "stdout",
     "output_type": "stream",
     "text": [
      "Manipulate and pivot table...\n",
      "There are 1122 products with less than 50% entries\n"
     ]
    }
   ],
   "source": [
    "pp = Preprocessing()\n",
    "pivot_table = pp.pivot_table(aggregate_df)\n",
    "sorted_df = pp.sort_nas(pivot_table)\n",
    "pp.make_diff_length_list(sorted_df)"
   ]
  },
  {
   "cell_type": "code",
   "execution_count": 27,
   "metadata": {},
   "outputs": [],
   "source": [
    "pivot_nans, nans, pivot_no_nans, no_nans = pp.split_nans(pivot_table, extracted_features)"
   ]
  },
  {
   "cell_type": "code",
   "execution_count": 29,
   "metadata": {},
   "outputs": [],
   "source": [
    "pivot_nans.to_csv('nans_pivot_table.csv')\n",
    "pivot_no_nans.to_csv('no_nans_pivot_table.csv')\n",
    "nans.to_csv('extracted_feat_nans.csv')\n",
    "no_nans.to_csv('extracted_feat_no_nans.csv')"
   ]
  },
  {
   "cell_type": "markdown",
   "metadata": {},
   "source": [
    "Have a look at the coverage of the time series'"
   ]
  },
  {
   "cell_type": "code",
   "execution_count": 12,
   "metadata": {},
   "outputs": [
    {
     "data": {
      "image/png": "[encoded data removed]",
      "text/plain": [
       "<Figure size 360x720 with 1 Axes>"
      ]
     },
     "metadata": {
      "needs_background": "light"
     },
     "output_type": "display_data"
    }
   ],
   "source": [
    "pp.plot_nas(sorted_df)"
   ]
  },
  {
   "cell_type": "code",
   "execution_count": null,
   "metadata": {},
   "outputs": [],
   "source": []
  }
 ],
 "metadata": {
  "kernelspec": {
   "display_name": "Python 3",
   "language": "python",
   "name": "python3"
  },
  "language_info": {
   "codemirror_mode": {
    "name": "ipython",
    "version": 3
   },
   "file_extension": ".py",
   "mimetype": "text/x-python",
   "name": "python",
   "nbconvert_exporter": "python",
   "pygments_lexer": "ipython3",
   "version": "3.6.6"
  }
 },
 "nbformat": 4,
 "nbformat_minor": 2
}
